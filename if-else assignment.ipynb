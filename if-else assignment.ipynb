{
 "cells": [
  {
   "cell_type": "code",
   "execution_count": null,
   "id": "96a156b5-88f3-4b64-80f5-84025197a3d9",
   "metadata": {},
   "outputs": [],
   "source": [
    "Q1. Electricity Bill Calculator (using only if statements)?"
   ]
  },
  {
   "cell_type": "code",
   "execution_count": 1,
   "id": "5d517205-1298-4005-92d1-06daa7a5f426",
   "metadata": {},
   "outputs": [
    {
     "name": "stdout",
     "output_type": "stream",
     "text": [
      "Enter number of units:  1000\n"
     ]
    },
    {
     "name": "stdout",
     "output_type": "stream",
     "text": [
      "Total electricity bill is Rs. 8500\n"
     ]
    }
   ],
   "source": [
    "units = int(input(\"Enter number of units: \"))\n",
    "bill = 0\n",
    "\n",
    "if units > 100:\n",
    "    if units <= 200:\n",
    "        bill = (units - 100) * 5\n",
    "    if units > 200:\n",
    "        bill = (100 * 5) + ((units - 200) * 10)\n",
    "if units <= 100:\n",
    "    bill = 0\n",
    "\n",
    "print(\"Total electricity bill is Rs.\", bill)\n"
   ]
  },
  {
   "cell_type": "code",
   "execution_count": null,
   "id": "32b7b1cc-8056-4596-9bc7-eaa745019049",
   "metadata": {},
   "outputs": [],
   "source": [
    "Q2. Percentage to Grade Converter?"
   ]
  },
  {
   "cell_type": "code",
   "execution_count": 2,
   "id": "d85cd8ba-feb4-4de2-84e5-d4df1f1d30af",
   "metadata": {},
   "outputs": [
    {
     "name": "stdout",
     "output_type": "stream",
     "text": [
      "Enter your percentage:  75\n"
     ]
    },
    {
     "name": "stdout",
     "output_type": "stream",
     "text": [
      "Your grade is: C\n"
     ]
    }
   ],
   "source": [
    "percentage = float(input(\"Enter your percentage: \"))\n",
    "\n",
    "if percentage > 90:\n",
    "    grade = \"A\"\n",
    "if percentage > 80 and percentage <= 90:\n",
    "    grade = \"B\"\n",
    "if percentage >= 60 and percentage <= 80:\n",
    "    grade = \"C\"\n",
    "if percentage < 60:\n",
    "    grade = \"D\"\n",
    "\n",
    "print(\"Your grade is:\", grade)"
   ]
  },
  {
   "cell_type": "code",
   "execution_count": null,
   "id": "8d23c4e1-3d06-4eef-bc90-3762f6e886a6",
   "metadata": {},
   "outputs": [],
   "source": [
    "Q3. Find the Youngest of 4 People?"
   ]
  },
  {
   "cell_type": "code",
   "execution_count": 3,
   "id": "21349640-10ae-41a0-b4ac-64fb3945f301",
   "metadata": {},
   "outputs": [
    {
     "name": "stdout",
     "output_type": "stream",
     "text": [
      "Enter age of person 1:  64\n",
      "Enter age of person 2:  89\n",
      "Enter age of person 3:  31\n",
      "Enter age of person 4:  19\n"
     ]
    },
    {
     "name": "stdout",
     "output_type": "stream",
     "text": [
      "The youngest person is 19 years old.\n"
     ]
    }
   ],
   "source": [
    "a = int(input(\"Enter age of person 1: \"))\n",
    "b = int(input(\"Enter age of person 2: \"))\n",
    "c = int(input(\"Enter age of person 3: \"))\n",
    "d = int(input(\"Enter age of person 4: \"))\n",
    "\n",
    "youngest = a\n",
    "if b < youngest:\n",
    "    youngest = b\n",
    "if c < youngest:\n",
    "    youngest = c\n",
    "if d < youngest:\n",
    "    youngest = d\n",
    "\n",
    "print(\"The youngest person is\", youngest, \"years old.\")"
   ]
  },
  {
   "cell_type": "code",
   "execution_count": null,
   "id": "484e668e-2365-480a-9bd5-1cc9d9b0a716",
   "metadata": {},
   "outputs": [],
   "source": [
    "Q4. Bonus Calculator Based on Service Years?"
   ]
  },
  {
   "cell_type": "code",
   "execution_count": 5,
   "id": "35220c9b-3475-4029-bc9f-3267f70aea22",
   "metadata": {},
   "outputs": [
    {
     "name": "stdout",
     "output_type": "stream",
     "text": [
      "Enter your salary:  50000\n",
      "Enter years of service:  9\n"
     ]
    },
    {
     "name": "stdout",
     "output_type": "stream",
     "text": [
      "Bonus amount is Rs. 4000.0\n"
     ]
    }
   ],
   "source": [
    "salary = float(input(\"Enter your salary: \"))\n",
    "years = float(input(\"Enter years of service: \"))\n",
    "bonus = 0\n",
    "\n",
    "if years > 10:\n",
    "    bonus = 0.10 * salary\n",
    "if years >= 6 and years <= 10:\n",
    "    bonus = 0.08 * salary\n",
    "if years < 6:\n",
    "    bonus = 0.05 * salary\n",
    "\n",
    "print(\"Bonus amount is Rs.\", bonus)"
   ]
  },
  {
   "cell_type": "code",
   "execution_count": null,
   "id": "b3d2db1f-bfaa-4b0b-a6e6-1e9516d18824",
   "metadata": {},
   "outputs": [],
   "source": [
    "Q5. Second Largest of 3 Numbers?"
   ]
  },
  {
   "cell_type": "code",
   "execution_count": 6,
   "id": "8018f500-09a7-49a7-822d-2e8b9a926c64",
   "metadata": {},
   "outputs": [
    {
     "name": "stdout",
     "output_type": "stream",
     "text": [
      "Enter first number:  88\n",
      "Enter second number:  90\n",
      "Enter third number:  23\n"
     ]
    },
    {
     "name": "stdout",
     "output_type": "stream",
     "text": [
      "Second largest number is: 88\n"
     ]
    }
   ],
   "source": [
    "a = int(input(\"Enter first number: \"))\n",
    "b = int(input(\"Enter second number: \"))\n",
    "c = int(input(\"Enter third number: \"))\n",
    "\n",
    "if (a > b and a < c) or (a < b and a > c):\n",
    "    second = a\n",
    "if (b > a and b < c) or (b < a and b > c):\n",
    "    second = b\n",
    "if (c > a and c < b) or (c < a and c > b):\n",
    "    second = c\n",
    "\n",
    "print(\"Second largest number is:\", second)\n"
   ]
  },
  {
   "cell_type": "code",
   "execution_count": null,
   "id": "74c5bd2b-ce65-458f-915c-f542a7e55dba",
   "metadata": {},
   "outputs": [],
   "source": [
    "Q6. Marked Price Discount Calculator?"
   ]
  },
  {
   "cell_type": "code",
   "execution_count": 7,
   "id": "74b5215a-7b5a-4b5b-b613-486b1d40ad24",
   "metadata": {},
   "outputs": [
    {
     "name": "stdout",
     "output_type": "stream",
     "text": [
      "Enter marked price:  8000\n"
     ]
    },
    {
     "name": "stdout",
     "output_type": "stream",
     "text": [
      "Net amount to pay is Rs. 6800.0\n"
     ]
    }
   ],
   "source": [
    "mp = float(input(\"Enter marked price: \"))\n",
    "discount = 0\n",
    "\n",
    "if mp > 10000:\n",
    "    discount = 0.20 * mp\n",
    "if mp > 7000 and mp <= 10000:\n",
    "    discount = 0.15 * mp\n",
    "if mp <= 7000:\n",
    "    discount = 0.10 * mp\n",
    "\n",
    "net_amount = mp - discount\n",
    "print(\"Net amount to pay is Rs.\", net_amount)"
   ]
  },
  {
   "cell_type": "code",
   "execution_count": null,
   "id": "f274c51d-220e-4b4f-9eb6-cd8a12fe5687",
   "metadata": {},
   "outputs": [],
   "source": [
    "Q7. Stream Allotment Based on Subject Marks?"
   ]
  },
  {
   "cell_type": "code",
   "execution_count": 8,
   "id": "33645848-a6d4-4d35-90ce-1238aca71b17",
   "metadata": {},
   "outputs": [
    {
     "name": "stdout",
     "output_type": "stream",
     "text": [
      "Enter marks in English:  89\n",
      "Enter marks in Math:  79\n",
      "Enter marks in Science:  88\n",
      "Enter marks in Social Studies:  90\n"
     ]
    },
    {
     "name": "stdout",
     "output_type": "stream",
     "text": [
      "Stream: Commerce Stream\n",
      "Stream: Humanities\n"
     ]
    }
   ],
   "source": [
    "eng = int(input(\"Enter marks in English: \"))\n",
    "math = int(input(\"Enter marks in Math: \"))\n",
    "sci = int(input(\"Enter marks in Science: \"))\n",
    "sst = int(input(\"Enter marks in Social Studies: \"))\n",
    "\n",
    "if eng > 80 and math > 80 and sci > 80 and sst > 80:\n",
    "    print(\"Stream: Science Stream\")\n",
    "if eng > 80 and math > 50 and sci > 50:\n",
    "    print(\"Stream: Commerce Stream\")\n",
    "if eng > 80 and sst > 80:\n",
    "    print(\"Stream: Humanities\")"
   ]
  },
  {
   "cell_type": "code",
   "execution_count": null,
   "id": "1c9e59b8-0c11-46f0-a8cb-030c9b7b8f2f",
   "metadata": {},
   "outputs": [],
   "source": [
    "Q8. Hello if Number is Multiple of 5, else Bye?"
   ]
  },
  {
   "cell_type": "code",
   "execution_count": 9,
   "id": "f253f1d6-40a6-4e76-993b-d3a18e841cf1",
   "metadata": {},
   "outputs": [
    {
     "name": "stdout",
     "output_type": "stream",
     "text": [
      "Enter a number:  25\n"
     ]
    },
    {
     "name": "stdout",
     "output_type": "stream",
     "text": [
      "Hello\n"
     ]
    }
   ],
   "source": [
    "num = int(input(\"Enter a number: \"))\n",
    "\n",
    "if num % 5 == 0:\n",
    "    print(\"Hello\")\n",
    "if num % 5 != 0:\n",
    "    print(\"Bye\")\n"
   ]
  },
  {
   "cell_type": "code",
   "execution_count": null,
   "id": "76cae494-ff6a-482d-bd6c-dd9552ae6763",
   "metadata": {},
   "outputs": [],
   "source": [
    "Q9. Check if Last Digit Divisible by 3 or Not?"
   ]
  },
  {
   "cell_type": "code",
   "execution_count": 10,
   "id": "585fcf71-f16f-4183-89b0-7e8a80b02dcd",
   "metadata": {},
   "outputs": [
    {
     "name": "stdout",
     "output_type": "stream",
     "text": [
      "Enter a number:  39\n"
     ]
    },
    {
     "name": "stdout",
     "output_type": "stream",
     "text": [
      "Last digit is divisible by 3\n"
     ]
    }
   ],
   "source": [
    "num = int(input(\"Enter a number: \"))\n",
    "last_digit = num % 10\n",
    "\n",
    "if last_digit % 3 == 0:\n",
    "    print(\"Last digit is divisible by 3\")\n",
    "if last_digit % 3 != 0:\n",
    "    print(\"Last digit is not divisible by 3\")"
   ]
  },
  {
   "cell_type": "code",
   "execution_count": null,
   "id": "bb780a05-85ce-4048-8c25-e7788d384454",
   "metadata": {},
   "outputs": [],
   "source": [
    "Q10. Check Whether Number is 3-digit or Not?\n"
   ]
  },
  {
   "cell_type": "code",
   "execution_count": 11,
   "id": "473439d6-a25c-4d5e-b910-b5980179c940",
   "metadata": {},
   "outputs": [
    {
     "name": "stdout",
     "output_type": "stream",
     "text": [
      "Enter a number:  259\n"
     ]
    },
    {
     "name": "stdout",
     "output_type": "stream",
     "text": [
      "It is a three-digit number.\n"
     ]
    }
   ],
   "source": [
    "num = int(input(\"Enter a number: \"))\n",
    "\n",
    "if num >= 100 and num <= 999:\n",
    "    print(\"It is a three-digit number.\")\n",
    "if num < 100 or num > 999:\n",
    "    print(\"It is not a three-digit number.\")\n"
   ]
  },
  {
   "cell_type": "code",
   "execution_count": null,
   "id": "0398f9e8-6ad6-4e33-a5fe-7ee6ab0befa2",
   "metadata": {},
   "outputs": [],
   "source": []
  }
 ],
 "metadata": {
  "kernelspec": {
   "display_name": "Python 3 (ipykernel)",
   "language": "python",
   "name": "python3"
  },
  "language_info": {
   "codemirror_mode": {
    "name": "ipython",
    "version": 3
   },
   "file_extension": ".py",
   "mimetype": "text/x-python",
   "name": "python",
   "nbconvert_exporter": "python",
   "pygments_lexer": "ipython3",
   "version": "3.13.5"
  }
 },
 "nbformat": 4,
 "nbformat_minor": 5
}
